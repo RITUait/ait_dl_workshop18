{
 "cells": [
  {
   "cell_type": "code",
   "execution_count": null,
   "metadata": {},
   "outputs": [],
   "source": [
    "import tensorflow as tf\n",
    "from tensorflow.examples.tutorials.mnist import input_data\n",
    "from tensorflow.contrib import rnn"
   ]
  },
  {
   "cell_type": "code",
   "execution_count": null,
   "metadata": {},
   "outputs": [],
   "source": [
    "mnist = input_data.read_data_sets('/tmp/data', one_hot=True)"
   ]
  },
  {
   "cell_type": "code",
   "execution_count": null,
   "metadata": {},
   "outputs": [],
   "source": [
    "\"\"\"\n",
    "input->weights->hidden layer 1(activation function)->weights->hidden layer 2(activation)->weights->output layer\n",
    "\n",
    "compare output to intended output -> cost or loss function (cross entropy)\n",
    "optimization function (optimizer) -> reduce the cost (AdamOptimizer, SGD, AdaGrad,...)\n",
    "\n",
    "backpropogation\n",
    "\n",
    "feed forword + backprop = epoch (cycle)\n",
    "\"\"\""
   ]
  },
  {
   "cell_type": "code",
   "execution_count": null,
   "metadata": {},
   "outputs": [],
   "source": [
    "data_train = mnist.train"
   ]
  },
  {
   "cell_type": "code",
   "execution_count": null,
   "metadata": {},
   "outputs": [],
   "source": [
    "im = data_train.images"
   ]
  },
  {
   "cell_type": "code",
   "execution_count": null,
   "metadata": {},
   "outputs": [],
   "source": [
    "im[0].shape"
   ]
  },
  {
   "cell_type": "markdown",
   "metadata": {},
   "source": [
    "### Computation Graphs"
   ]
  },
  {
   "cell_type": "code",
   "execution_count": null,
   "metadata": {},
   "outputs": [],
   "source": [
    "total_epochs = 3\n",
    "\n",
    "n_classes = 10\n",
    "batch_size = 128\n",
    "\n",
    "rnn_batch_size = 28\n",
    "n_rbatches = 28\n",
    "rnn_size = 128\n"
   ]
  },
  {
   "cell_type": "code",
   "execution_count": null,
   "metadata": {},
   "outputs": [],
   "source": [
    "x = tf.placeholder('float',[None, n_rbatches, rnn_batch_size])\n",
    "y = tf.placeholder('float')"
   ]
  },
  {
   "cell_type": "code",
   "execution_count": null,
   "metadata": {},
   "outputs": [],
   "source": [
    "def recurrent_neural_network(x):\n",
    "    \n",
    "    # Dictionaries for layers\n",
    "    layer = {'weights': tf.Variable(tf.random.normal([rnn_size, n_classes])), \n",
    "             'biases': tf.Variable(tf.random.normal([n_classes]))}\n",
    "    \n",
    "    x = tf.transpose(x, [1,0,2])  \n",
    "    x = tf.reshape(x, [-1, rnn_batch_size])\n",
    "    x = tf.split(x, n_rbatches, 0)\n",
    "    \n",
    "    lstm_cell = rnn.BasicLSTMCell(rnn_size)\n",
    "    outputs, states = rnn.static_rnn(lstm_cell, x, dtype=tf.float32)\n",
    "                        \n",
    "    out = tf.add(tf.matmul(outputs[-1], layer['weights']), layer['biases'])   \n",
    "                    \n",
    "    return out"
   ]
  },
  {
   "cell_type": "markdown",
   "metadata": {},
   "source": [
    "### Run"
   ]
  },
  {
   "cell_type": "code",
   "execution_count": null,
   "metadata": {},
   "outputs": [],
   "source": [
    "def train_neural_network(x):\n",
    "    #feed forward prediction\n",
    "    predictions = recurrent_neural_network(x)\n",
    "    \n",
    "    #backpropogation = minimizing(cost=crossentropy)\n",
    "    cost = tf.reduce_mean(tf.nn.softmax_cross_entropy_with_logits(logits=predictions, labels=y))\n",
    "    optimizer = tf.train.AdamOptimizer().minimize(cost)\n",
    "    \n",
    "    #epoch = feed forward + backprop  and loss at each epoch (epoch_loss)  \n",
    "    config = tf.ConfigProto()\n",
    "    config.gpu_options.allow_growth = True\n",
    "\n",
    "    with tf.Session(config=config) as sess:\n",
    "        sess.run(tf.initialize_all_variables())\n",
    "        \n",
    "        for epoch in range(total_epochs):\n",
    "            epoch_loss = 0\n",
    "            for _ in range(int(mnist.train.num_examples/batch_size)):\n",
    "                epoch_x,epoch_y = mnist.train.next_batch(batch_size)\n",
    "                epoch_x = epoch_x.reshape(batch_size, n_rbatches, rnn_batch_size)\n",
    "                \n",
    "                _,c = sess.run([optimizer, cost], feed_dict={x: epoch_x, y: epoch_y})\n",
    "                epoch_loss += c\n",
    "            print('Epoch',epoch,'completed out of',total_epochs, 'loss:',epoch_loss)\n",
    "            \n",
    "        correct = tf.equal(tf.argmax(predictions,1), tf.argmax(y,1))\n",
    "        accuracy = tf.reduce_mean(tf.cast(correct, 'float'))\n",
    "        print('Accuracy:',accuracy.eval({x:mnist.test.images.reshape((-1, n_rbatches, rnn_batch_size)), y:mnist.test.labels}))"
   ]
  },
  {
   "cell_type": "code",
   "execution_count": null,
   "metadata": {},
   "outputs": [],
   "source": [
    "train_neural_network(x)"
   ]
  },
  {
   "cell_type": "code",
   "execution_count": null,
   "metadata": {},
   "outputs": [],
   "source": []
  }
 ],
 "metadata": {
  "kernelspec": {
   "display_name": "Python 3",
   "language": "python",
   "name": "python3"
  },
  "language_info": {
   "codemirror_mode": {
    "name": "ipython",
    "version": 3
   },
   "file_extension": ".py",
   "mimetype": "text/x-python",
   "name": "python",
   "nbconvert_exporter": "python",
   "pygments_lexer": "ipython3",
   "version": "3.6.6"
  }
 },
 "nbformat": 4,
 "nbformat_minor": 2
}

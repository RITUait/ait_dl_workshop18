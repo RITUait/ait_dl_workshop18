{
 "cells": [
  {
   "cell_type": "code",
   "execution_count": null,
   "metadata": {},
   "outputs": [],
   "source": [
    "import tensorflow as tf\n",
    "from tensorflow.examples.tutorials.mnist import input_data"
   ]
  },
  {
   "cell_type": "code",
   "execution_count": null,
   "metadata": {},
   "outputs": [],
   "source": [
    "mnist = input_data.read_data_sets('/tmp/data', one_hot=True)"
   ]
  },
  {
   "cell_type": "code",
   "execution_count": null,
   "metadata": {},
   "outputs": [],
   "source": [
    "\"\"\"\n",
    "input->weights->hidden layer 1(activation function)->weights->hidden layer 2(activation)->weights->output layer\n",
    "\n",
    "compare output to intended output -> cost or loss function (cross entropy)\n",
    "optimization function (optimizer) -> reduce the cost (AdamOptimizer, SGD, AdaGrad,...)\n",
    "\n",
    "backpropogation\n",
    "\n",
    "feed forword + backprop = epoch (cycle)\n",
    "\"\"\""
   ]
  },
  {
   "cell_type": "code",
   "execution_count": null,
   "metadata": {},
   "outputs": [],
   "source": [
    "data_train = mnist.train"
   ]
  },
  {
   "cell_type": "code",
   "execution_count": null,
   "metadata": {},
   "outputs": [],
   "source": [
    "im = data_train.images"
   ]
  },
  {
   "cell_type": "code",
   "execution_count": null,
   "metadata": {},
   "outputs": [],
   "source": [
    "im[0].shape"
   ]
  },
  {
   "cell_type": "markdown",
   "metadata": {},
   "source": [
    "### Computation Graphs"
   ]
  },
  {
   "cell_type": "code",
   "execution_count": null,
   "metadata": {},
   "outputs": [],
   "source": [
    "n_nodes_hl1 = 500\n",
    "n_nodes_hl2 = 500\n",
    "n_nodes_hl3 = 500\n",
    "\n",
    "n_classes = 10\n",
    "batch_size = 128"
   ]
  },
  {
   "cell_type": "code",
   "execution_count": null,
   "metadata": {},
   "outputs": [],
   "source": [
    "x = tf.placeholder('float',[None, 784])\n",
    "y = tf.placeholder('float')"
   ]
  },
  {
   "cell_type": "code",
   "execution_count": null,
   "metadata": {},
   "outputs": [],
   "source": [
    "def neural_network_model(data):\n",
    "    \n",
    "    # Dictionaries for layers\n",
    "    hidden_layer_1 = {'weights': tf.Variable(tf.random.normal([784, n_nodes_hl1])), \n",
    "                      'biases': tf.Variable(tf.random.normal([n_nodes_hl1]))}\n",
    "    \n",
    "    hidden_layer_2 = {'weights': tf.Variable(tf.random.normal([n_nodes_hl1, n_nodes_hl2])), \n",
    "                      'biases': tf.Variable(tf.random.normal([n_nodes_hl2]))}\n",
    "    \n",
    "    hidden_layer_3 = {'weights': tf.Variable(tf.random.normal([n_nodes_hl2, n_nodes_hl3])), \n",
    "                      'biases': tf.Variable(tf.random.normal([n_nodes_hl3]))}\n",
    "    \n",
    "    output_layer = {'weights': tf.Variable(tf.random.normal([n_nodes_hl3, n_classes])), \n",
    "                      'biases': tf.Variable(tf.random.normal([n_classes]))}\n",
    "                    \n",
    "    # layer = (input_data * weights) + bias\n",
    "    hl1 = tf.add(tf.matmul(data, hidden_layer_1['weights']), hidden_layer_1['biases'])                \n",
    "    hl1 = tf.nn.relu(hl1)\n",
    "                    \n",
    "    hl2 = tf.add(tf.matmul(hl1, hidden_layer_2['weights']), hidden_layer_2['biases'])  \n",
    "    hl2 = tf.nn.relu(hl2)\n",
    "                    \n",
    "    hl3 = tf.add(tf.matmul(hl2, hidden_layer_3['weights']), hidden_layer_3['biases'])  \n",
    "    hl3 = tf.nn.relu(hl3)                \n",
    "                        \n",
    "    out = tf.add(tf.matmul(hl3, output_layer['weights']), output_layer['biases'])   \n",
    "                    \n",
    "    return out"
   ]
  },
  {
   "cell_type": "markdown",
   "metadata": {},
   "source": [
    "### Run"
   ]
  },
  {
   "cell_type": "code",
   "execution_count": null,
   "metadata": {},
   "outputs": [],
   "source": [
    "def train_neural_network(x):\n",
    "    #feed forward prediction\n",
    "    predictions = neural_network_model(x)\n",
    "    \n",
    "    #backpropogation = minimizing(cost=crossentropy)\n",
    "    cost = tf.reduce_mean(tf.nn.softmax_cross_entropy_with_logits(logits=predictions, labels=y))\n",
    "    optimizer = tf.train.AdamOptimizer().minimize(cost)\n",
    "    \n",
    "    #epoch = feed forward + backprop  and loss at each epoch (epoch_loss)\n",
    "    total_epochs = 10\n",
    "    \n",
    "    with tf.Session() as sess:\n",
    "        sess.run(tf.initialize_all_variables())\n",
    "        \n",
    "        for epoch in range(total_epochs):\n",
    "            epoch_loss = 0\n",
    "            for _ in range(int(mnist.train.num_examples/batch_size)):\n",
    "                epoch_x,epoch_y = mnist.train.next_batch(batch_size)\n",
    "                _,c = sess.run([optimizer, cost], feed_dict={x: epoch_x, y: epoch_y})\n",
    "                epoch_loss += c\n",
    "            print('Epoch',epoch,'completed out of',total_epochs, 'loss:',epoch_loss)\n",
    "            \n",
    "        correct = tf.equal(tf.argmax(predictions,1), tf.argmax(y,1))\n",
    "        accuracy = tf.reduce_mean(tf.cast(correct, 'float'))\n",
    "        print('Accuracy:',accuracy.eval({x:mnist.test.images, y:mnist.test.labels}))"
   ]
  },
  {
   "cell_type": "code",
   "execution_count": null,
   "metadata": {},
   "outputs": [],
   "source": [
    "train_neural_network(x)"
   ]
  },
  {
   "cell_type": "code",
   "execution_count": null,
   "metadata": {},
   "outputs": [],
   "source": []
  }
 ],
 "metadata": {
  "kernelspec": {
   "display_name": "Python 3",
   "language": "python",
   "name": "python3"
  },
  "language_info": {
   "codemirror_mode": {
    "name": "ipython",
    "version": 3
   },
   "file_extension": ".py",
   "mimetype": "text/x-python",
   "name": "python",
   "nbconvert_exporter": "python",
   "pygments_lexer": "ipython3",
   "version": "3.6.6"
  }
 },
 "nbformat": 4,
 "nbformat_minor": 2
}
